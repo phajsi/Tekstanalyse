{
 "cells": [
  {
   "cell_type": "markdown",
   "id": "620f2305-5877-4757-a192-ca477293b61c",
   "metadata": {},
   "source": [
    "# Lab 3\n",
    "We'll use this lab as an experiment of using a single file where you fill in codeblocks where necessary. They will be available as .py and .ipynb. Using the latter, or Jupyter Notebook, is highly recommended, as it provides substantially better feedback.\n",
    "\n",
    "\n",
    "Provide your outputs in a simple report, along with textual answers.\n",
    "\n",
    "\n",
    "The idea behind this format is to clarify what sort of output is required, as all answers run on tests based in the `tests.py` file."
   ]
  },
  {
   "cell_type": "code",
   "execution_count": 9,
   "id": "cb11d99c-3397-400d-bbcb-683c0f28a81f",
   "metadata": {},
   "outputs": [],
   "source": [
    "\"\"\"\n",
    "# Lab 3\n",
    "\"\"\"\n",
    "import nltk\n",
    "import random\n",
    "from sklearn.model_selection import train_test_split\n",
    "from sklearn.tree import DecisionTreeClassifier\n",
    "from sklearn.naive_bayes import GaussianNB"
   ]
  },
  {
   "cell_type": "markdown",
   "id": "9de6d08b",
   "metadata": {},
   "source": [
    "## Exercise 1 - Gender detection of names\n",
    "In NLTK you’ll find the corpus “corpus.names”. A set of 5000 male and 3000 female names.\n",
    "1. Finish the GenderDataset class to assign labels based on the corpus file ids. Select a split ratio for\n",
    "train/test data. Based on previous experiences, perhaps?\n",
    "2. Finish the Classifier class to support the following classifiers:\n",
    "• Decision tree\n",
    "• Naïve bayes\n",
    "3. Finish the FeatureExtractor class to receive features from the input data. Explain your results, and\n",
    "what do you think would change if you altered your feature extractor? Alternatively, try to debug\n",
    "your extractor and experiment with different features."
   ]
  },
  {
   "cell_type": "code",
   "execution_count": 10,
   "id": "eced81ba",
   "metadata": {},
   "outputs": [],
   "source": [
    "class GenderDataset:\n",
    "    def __init__(self):\n",
    "        self.names = nltk.corpus.names\n",
    "        self.data = None\n",
    "        self.build()\n",
    "\n",
    "    def make_labels(self, gender):\n",
    "        \"\"\"\n",
    "        this function is to help you get started\n",
    "        based on the passed gender, as you can fetch from the file ids,\n",
    "        we return a tuple of (name, gender) for each name\n",
    "        \n",
    "        use this in `build` below, or do your own thing completely :)\n",
    "        \"\"\"\n",
    "        return [(n, gender) for n in self.names.words(gender + \".txt\")]\n",
    "    \n",
    "    def build(self):\n",
    "        \"\"\" TODO\n",
    "        combine the data in \"male\" and \"female\" into one\n",
    "        remember to randomize the order\n",
    "        \"\"\"\n",
    "        self.data = (self.make_labels(\"male\") + self.make_labels(\"female\"))\n",
    "        random.shuffle(self.data)\n",
    "        pass\n",
    "    \n",
    "    def split(self, ratio):\n",
    "        return train_test_split(self.data, test_size=ratio)\n",
    "\n",
    "class Classifier:\n",
    "    def __init__(self, classifier):\n",
    "        self.classifier = classifier\n",
    "        self.model = None\n",
    "    \n",
    "    def train(self, data):\n",
    "        # TODO: train classifier and store model\n",
    "        self.model = self.classifier.train(data)\n",
    "        pass\n",
    "        \n",
    "    def test(self, data):\n",
    "        # TODO: return accuracy for the model on input data\n",
    "        return nltk.classify.accuracy(self.model, data)\n",
    "    \n",
    "    def train_and_evaluate(self, train, test):\n",
    "        self.train(train)\n",
    "        return self.test(test)\n",
    "        \n",
    "    def show_features(self):\n",
    "        # OPTIONAL\n",
    "        pass\n",
    "\n",
    "                                 \n",
    "class FeatureExtractor:\n",
    "    def __init__(self, data):\n",
    "        self.data = data\n",
    "        self.features = []  \n",
    "        \n",
    "        self.build()\n",
    "                 \n",
    "    @staticmethod\n",
    "    def text_to_features(name):\n",
    "        # TODO: create a dict of features from a name\n",
    "        return {\n",
    "            'suffix1': name[-1],\n",
    "            'suffix2': name[-2:]\n",
    "        }\n",
    "    \n",
    "    def build(self):\n",
    "        # TODO: populate your features with the above function\n",
    "        for (name, gender) in self.data:\n",
    "            self.features.append((self.text_to_features(name), gender))\n",
    "        pass"
   ]
  },
  {
   "cell_type": "markdown",
   "id": "01ae27ee-b7af-4961-87c9-1082174243e3",
   "metadata": {},
   "source": [
    "Note: you should achieve an accuracy of well above 70%!"
   ]
  },
  {
   "cell_type": "code",
   "execution_count": 11,
   "id": "fcd040ab-42c4-42ed-ad8c-b5fbf4bfa718",
   "metadata": {},
   "outputs": [
    {
     "name": "stdout",
     "output_type": "stream",
     "text": [
      "Model: decision_tree\tAccuracy: 0.7960981749528006\n",
      "Model: naive_bayes\tAccuracy: 0.7835116425424795\n"
     ]
    }
   ],
   "source": [
    "split_ratio = 0.2  # TODO: modify\n",
    "train, test = GenderDataset().split(ratio=split_ratio)\n",
    "\n",
    "classifiers = {\n",
    "    \"decision_tree\": Classifier(nltk.DecisionTreeClassifier), # TODO\n",
    "    \"naive_bayes\": Classifier(nltk.NaiveBayesClassifier), # TODO\n",
    "}\n",
    "\n",
    "train_set = FeatureExtractor(train).features\n",
    "test_set = FeatureExtractor(test).features\n",
    "\n",
    "\n",
    "for name, classifier in classifiers.items():\n",
    "    acc = classifier.train_and_evaluate(train_set, test_set)\n",
    "    print(\"Model: {}\\tAccuracy: {}\".format(name, acc))"
   ]
  },
  {
   "cell_type": "markdown",
   "id": "f9acdd9d-789d-4d05-bad4-35141ffa5e4b",
   "metadata": {},
   "source": [
    "## Exercise 2 - Spam or ham\n",
    "Spam or ham is referred to a mail being spam or regular (\"ham\"). Follow the instructions and implement the `TODOs`"
   ]
  },
  {
   "cell_type": "code",
   "execution_count": 12,
   "id": "0eb643e2-3d3c-487f-a953-092fb334c27e",
   "metadata": {},
   "outputs": [
    {
     "name": "stdout",
     "output_type": "stream",
     "text": [
      "ham     4825\n",
      "spam     747\n",
      "Name: label, dtype: int64\n"
     ]
    },
    {
     "data": {
      "text/html": [
       "<div>\n",
       "<style scoped>\n",
       "    .dataframe tbody tr th:only-of-type {\n",
       "        vertical-align: middle;\n",
       "    }\n",
       "\n",
       "    .dataframe tbody tr th {\n",
       "        vertical-align: top;\n",
       "    }\n",
       "\n",
       "    .dataframe thead th {\n",
       "        text-align: right;\n",
       "    }\n",
       "</style>\n",
       "<table border=\"1\" class=\"dataframe\">\n",
       "  <thead>\n",
       "    <tr style=\"text-align: right;\">\n",
       "      <th></th>\n",
       "      <th>label</th>\n",
       "      <th>text</th>\n",
       "    </tr>\n",
       "  </thead>\n",
       "  <tbody>\n",
       "    <tr>\n",
       "      <th>0</th>\n",
       "      <td>ham</td>\n",
       "      <td>Go until jurong point, crazy.. Available only ...</td>\n",
       "    </tr>\n",
       "    <tr>\n",
       "      <th>1</th>\n",
       "      <td>ham</td>\n",
       "      <td>Ok lar... Joking wif u oni...</td>\n",
       "    </tr>\n",
       "    <tr>\n",
       "      <th>2</th>\n",
       "      <td>spam</td>\n",
       "      <td>Free entry in 2 a wkly comp to win FA Cup fina...</td>\n",
       "    </tr>\n",
       "    <tr>\n",
       "      <th>3</th>\n",
       "      <td>ham</td>\n",
       "      <td>U dun say so early hor... U c already then say...</td>\n",
       "    </tr>\n",
       "    <tr>\n",
       "      <th>4</th>\n",
       "      <td>ham</td>\n",
       "      <td>Nah I don't think he goes to usf, he lives aro...</td>\n",
       "    </tr>\n",
       "  </tbody>\n",
       "</table>\n",
       "</div>"
      ],
      "text/plain": [
       "  label                                               text\n",
       "0   ham  Go until jurong point, crazy.. Available only ...\n",
       "1   ham                      Ok lar... Joking wif u oni...\n",
       "2  spam  Free entry in 2 a wkly comp to win FA Cup fina...\n",
       "3   ham  U dun say so early hor... U c already then say...\n",
       "4   ham  Nah I don't think he goes to usf, he lives aro..."
      ]
     },
     "execution_count": 12,
     "metadata": {},
     "output_type": "execute_result"
    }
   ],
   "source": [
    "spam = pd.read_csv(\n",
    "    'spam.csv',\n",
    "    usecols=[\"v1\", \"v2\"],\n",
    "    encoding=\"latin-1\"\n",
    ").rename(columns={\"v1\": \"label\", \"v2\": \"text\"})\n",
    "\n",
    "print(spam.label.value_counts())\n",
    "spam.head()"
   ]
  },
  {
   "cell_type": "code",
   "execution_count": 13,
   "id": "d1e663bc-07ce-4593-8298-350afaee23fd",
   "metadata": {},
   "outputs": [
    {
     "data": {
      "text/plain": [
       "0    4825\n",
       "1     747\n",
       "Name: label, dtype: int64"
      ]
     },
     "execution_count": 13,
     "metadata": {},
     "output_type": "execute_result"
    }
   ],
   "source": [
    "\"\"\" TODO: transform label to numerical\n",
    "Expected output:\n",
    "0    4825\n",
    "1     747\n",
    "Name: label, dtype: int64\n",
    "\n",
    "hint: you can use \"apply\" or \"replace\" for a column in pandas\n",
    "\"\"\"\n",
    "spam.label = spam.label.replace({\"ham\":0,\"spam\":1}) # your transformation goes here\n",
    "spam.label.value_counts()"
   ]
  },
  {
   "cell_type": "code",
   "execution_count": 14,
   "id": "3d58223a",
   "metadata": {},
   "outputs": [],
   "source": [
    "from nltk import stem\n",
    "from nltk.corpus import stopwords\n",
    "from nltk.stem import WordNetLemmatizer\n",
    "#nltk.download('omw-1.4')"
   ]
  },
  {
   "cell_type": "code",
   "execution_count": 15,
   "id": "027995b9-aee1-4d67-8fa1-f6cd3afe1795",
   "metadata": {},
   "outputs": [],
   "source": [
    "class TextCleaner:\n",
    "    def __init__(self, text):\n",
    "        self.text = nltk.word_tokenize(text) # TODO: tokenize\n",
    "        self.stemmer = stem.lancaster.LancasterStemmer() # TODO: incorporate a stemmer of your choice\n",
    "        self.stopwords = set(stopwords.words('english'))\n",
    "        self.lem = WordNetLemmatizer() # TODO: lemmatizer\n",
    "    \n",
    "    \"\"\"\n",
    "    Create small functions to replace your tokens (self.text)\n",
    "    iteratively. Such as a lowercase function.\n",
    "    \"\"\"\n",
    "    def lowercase(self):\n",
    "        self.text = [w.lower() for w in self.text]\n",
    "\n",
    "    def stem_words(self):\n",
    "        self.text = map(lambda word: self.stemmer.stem(word), self.text)\n",
    "\n",
    "    def remove_stopwords(self):\n",
    "        self.text = [word for word in self.text if word not in self.stopwords]\n",
    "\n",
    "    def lemmatizer(self):\n",
    "        self.text = map(lambda word: self.lem.lemmatize(word), self.text)\n",
    "\n",
    "    def clean(self):\n",
    "        self.lowercase()\n",
    "        \"\"\"\n",
    "        TODO: populate with your defined cleaning functions here\n",
    "        perhaps you want some conditional values to\n",
    "        control which functions to use?\n",
    "        \"\"\"\n",
    "        self.remove_stopwords()\n",
    "        self.stem_words()\n",
    "        self.lemmatizer()\n",
    "\n",
    "        # finally, return it as a text \n",
    "        return \" \".join(self.text)"
   ]
  },
  {
   "cell_type": "code",
   "execution_count": 16,
   "id": "8a9cac1b-141f-43c6-939b-beddea37ade9",
   "metadata": {
    "tags": []
   },
   "outputs": [],
   "source": [
    "clean = lambda text: TextCleaner(text).clean()\n",
    "spam.text = spam.text.apply(clean)"
   ]
  },
  {
   "cell_type": "code",
   "execution_count": 17,
   "id": "52288899-68e3-4d84-bd02-609419b14673",
   "metadata": {},
   "outputs": [
    {
     "data": {
      "text/html": [
       "<div>\n",
       "<style scoped>\n",
       "    .dataframe tbody tr th:only-of-type {\n",
       "        vertical-align: middle;\n",
       "    }\n",
       "\n",
       "    .dataframe tbody tr th {\n",
       "        vertical-align: top;\n",
       "    }\n",
       "\n",
       "    .dataframe thead th {\n",
       "        text-align: right;\n",
       "    }\n",
       "</style>\n",
       "<table border=\"1\" class=\"dataframe\">\n",
       "  <thead>\n",
       "    <tr style=\"text-align: right;\">\n",
       "      <th></th>\n",
       "      <th>label</th>\n",
       "      <th>text</th>\n",
       "    </tr>\n",
       "  </thead>\n",
       "  <tbody>\n",
       "    <tr>\n",
       "      <th>0</th>\n",
       "      <td>0</td>\n",
       "      <td>go jurong point , crazy .. avail bug n gre wor...</td>\n",
       "    </tr>\n",
       "    <tr>\n",
       "      <th>1</th>\n",
       "      <td>0</td>\n",
       "      <td>ok lar ... jok wif u on ...</td>\n",
       "    </tr>\n",
       "    <tr>\n",
       "      <th>2</th>\n",
       "      <td>1</td>\n",
       "      <td>fre entry 2 wkly comp win fa cup fin tkts 21st...</td>\n",
       "    </tr>\n",
       "    <tr>\n",
       "      <th>3</th>\n",
       "      <td>0</td>\n",
       "      <td>u dun say ear hor ... u c already say ...</td>\n",
       "    </tr>\n",
       "    <tr>\n",
       "      <th>4</th>\n",
       "      <td>0</td>\n",
       "      <td>nah n't think goe usf , liv around though</td>\n",
       "    </tr>\n",
       "  </tbody>\n",
       "</table>\n",
       "</div>"
      ],
      "text/plain": [
       "   label                                               text\n",
       "0      0  go jurong point , crazy .. avail bug n gre wor...\n",
       "1      0                        ok lar ... jok wif u on ...\n",
       "2      1  fre entry 2 wkly comp win fa cup fin tkts 21st...\n",
       "3      0          u dun say ear hor ... u c already say ...\n",
       "4      0          nah n't think goe usf , liv around though"
      ]
     },
     "execution_count": 17,
     "metadata": {},
     "output_type": "execute_result"
    }
   ],
   "source": [
    "spam.head()"
   ]
  },
  {
   "cell_type": "code",
   "execution_count": 18,
   "id": "57b2bad2-d747-49fe-8876-d8bf19e10095",
   "metadata": {
    "tags": []
   },
   "outputs": [],
   "source": [
    "from sklearn.naive_bayes import MultinomialNB\n",
    "from sklearn.metrics import confusion_matrix\n",
    "from sklearn.feature_extraction.text import TfidfVectorizer\n",
    "\n",
    "split_ratio = 0.2 # TODO: modify\n",
    "X_train, X_test, y_train, y_test = train_test_split(\n",
    "    spam.text, spam.label, test_size=split_ratio, random_state=4310)\n",
    "\n",
    "# TODO: vectorize with sklearn\n",
    "vectorizer = TfidfVectorizer()\n",
    "# TODO: fit the vectorizer to your training data\n",
    "X_train = vectorizer.fit_transform(X_train)\n",
    "\n",
    "# TODO: set up a multinomial classifier\n",
    "classifier = MultinomialNB()\n",
    "if classifier:\n",
    "    classifier.fit(X_train, y_train)\n",
    "    \n",
    "vectorized = None"
   ]
  },
  {
   "cell_type": "code",
   "execution_count": 19,
   "id": "04f9bdb3-b4b4-40ba-9faa-d7304c741401",
   "metadata": {},
   "outputs": [],
   "source": [
    "def predict(model, vectorizer, data, all_predictions=False):\n",
    "    data = vectorizer.transform(data) # TODO apply the transformation from the vectorizer to test data \n",
    "    if all_predictions:\n",
    "        return model.predict_proba(data)\n",
    "    else:\n",
    "        return model.predict(data)\n",
    "\n",
    "def print_examples(data, probs, label1, label2, n=10):\n",
    "    percent = lambda x: \"{}%\".format(round(x*100, 1))\n",
    "\n",
    "    for text, pred in list(zip(data, probs))[:n]:\n",
    "        print(\"{}\\n{}: {} / {}: {}\\n{}\".format(\n",
    "            text,\n",
    "            label1,\n",
    "            percent(pred[0]),\n",
    "            label2,\n",
    "            percent(pred[1]),\n",
    "            \"-\" * 100  # to print a line\n",
    "        ))"
   ]
  },
  {
   "cell_type": "code",
   "execution_count": 20,
   "id": "d1329d63-5ed4-4648-adca-ab36567095a4",
   "metadata": {},
   "outputs": [
    {
     "name": "stdout",
     "output_type": "stream",
     "text": [
      "world famam ....\n",
      "ham: 95.0% / spam: 5.0%\n",
      "----------------------------------------------------------------------------------------------------\n",
      "\\aww must near dead ! wel jez iscom todo workand whilltak forev ! \\ '' ''\n",
      "ham: 96.9% / spam: 3.1%\n",
      "----------------------------------------------------------------------------------------------------\n",
      "bab . hop ok . shit night sleep . fel asleep 5.iåõm knack iåõm dread work tonight . thou upto tonight . x\n",
      "ham: 99.2% / spam: 0.8%\n",
      "----------------------------------------------------------------------------------------------------\n",
      "thank . lik wel ...\n",
      "ham: 99.4% / spam: 0.6%\n",
      "----------------------------------------------------------------------------------------------------\n",
      "'m read text sent . meant jok . read light\n",
      "ham: 96.9% / spam: 3.1%\n",
      "----------------------------------------------------------------------------------------------------\n",
      "oky ì_ wan meet bish ? co bish . 'm driv today .\n",
      "ham: 99.7% / spam: 0.3%\n",
      "----------------------------------------------------------------------------------------------------\n",
      "smil plea smil pain smil troubl pour lik rain smil sum1 hurt u smil becoz someon stil lov see u smil ! !\n",
      "ham: 99.3% / spam: 0.7%\n",
      "----------------------------------------------------------------------------------------------------\n",
      "hi : ) ct employ ?\n",
      "ham: 96.5% / spam: 3.5%\n",
      "----------------------------------------------------------------------------------------------------\n",
      "c movy juz last minut decid mah . juz watch 2 lar tot ì_ interest .\n",
      "ham: 99.9% / spam: 0.1%\n",
      "----------------------------------------------------------------------------------------------------\n",
      "; - ) ok . feel lik john lennon .\n",
      "ham: 99.5% / spam: 0.5%\n",
      "----------------------------------------------------------------------------------------------------\n",
      "[[950   0]\n",
      " [ 42 123]]\n",
      "Recall=0.75\n",
      "Precision=1.0\n"
     ]
    }
   ],
   "source": [
    "if classifier:\n",
    "    y_probas = predict(classifier, vectorizer, X_test, all_predictions=True)\n",
    "    print_examples(X_test, y_probas, \"ham\", \"spam\", 10)\n",
    "\n",
    "    y_pred = predict(classifier, vectorizer, X_test)\n",
    "    # TODO display a confusion matrix on the test set vs predictions\n",
    "    confusion_mat = confusion_matrix(y_test, y_pred)\n",
    "    print(confusion_mat)\n",
    "\n",
    "    # show precision and recall in a confusion matrix\n",
    "    tn, fp, fn, tp = confusion_mat.ravel()\n",
    "    recall = tp / (tp + fn)\n",
    "    precision = tp / (tp + fp)\n",
    "\n",
    "    print(\"Recall={}\\nPrecision={}\".format(round(recall, 2), round(precision, 2)))"
   ]
  },
  {
   "cell_type": "markdown",
   "id": "7d0a39c5-f75f-4298-ac1d-48d11604a063",
   "metadata": {
    "tags": []
   },
   "source": [
    "## Exercise 3 - Word features\n",
    "Word features can be very useful for performing document classification, since the words that appear in a document give a strong indication of what its semantic content is. However, many words occur very infrequently, and some of the most informative words in a document may never have occurred in our training data. One solution is to make use of a lexicon, which describes how different words relate to each other.\n",
    "\n",
    "Your task:\n",
    "- Use the WordNet lexicon and augment the movie review document classifier (See NLTK book, Ch. 6, section 1.3) to use features that generalize the words that appear in a document, making it more likely that they will match words found in the training data."
   ]
  },
  {
   "cell_type": "markdown",
   "id": "eea34bc3-b944-4850-9f20-104898a6cbc2",
   "metadata": {},
   "source": [
    "Download wordnet and import"
   ]
  },
  {
   "cell_type": "markdown",
   "id": "aad91a07",
   "metadata": {},
   "source": [
    "1. Again you need to select a classifier, depending on the problem. Think of feature independence.\n",
    "2. Finish the word_to_syn method. This should return a list of all unique synonyms for an input word.\n",
    "3. Finish the synset_expansion method. This should return a list of lemmas and the source word for\n",
    "a list of words."
   ]
  },
  {
   "cell_type": "code",
   "execution_count": 21,
   "id": "a51d70ac-637e-442d-abf0-d9a81a3917fd",
   "metadata": {},
   "outputs": [],
   "source": [
    "#nltk.download('wordnet')\n",
    "#nltk.download('movie_reviews')\n",
    "from nltk.corpus import movie_reviews\n",
    "from nltk.corpus import wordnet as wn\n",
    "import random"
   ]
  },
  {
   "cell_type": "code",
   "execution_count": 22,
   "id": "88196d95-5ebc-4f64-b872-5f68cb1634b4",
   "metadata": {},
   "outputs": [],
   "source": [
    "# experimental version of word to syn\n",
    "def word_to_syn_list(word):\n",
    "    synonyms = [ss.lemma_names() for ss in wn.synsets(word)]\n",
    "    synonyms = [w for sublist in synonyms for w in sublist]\n",
    "    return list(set(synonyms))"
   ]
  },
  {
   "cell_type": "code",
   "execution_count": 23,
   "id": "99a92138",
   "metadata": {},
   "outputs": [],
   "source": [
    "#TODO: implement a fn that returns a synonym for \"word\" if available, \n",
    "# otherwise returns the word itself\n",
    "def word_to_syn(word):\n",
    "    synonyms = [ss.lemma_names() for ss in wn.synsets(word)]\n",
    "    synonyms = [w for sublist in synonyms for w in sublist]\n",
    "    synonyms = list(set(synonyms))\n",
    "    if(len(synonyms)>1):\n",
    "        for w in synonyms:\n",
    "            if(w!=word):\n",
    "                return w\n",
    "    else:\n",
    "        return word\n",
    "    "
   ]
  },
  {
   "cell_type": "code",
   "execution_count": 24,
   "id": "23d9d4a7-c64f-4509-87c7-77fb3ed2fa61",
   "metadata": {},
   "outputs": [],
   "source": [
    "\"\"\"\n",
    "this is from Ch. 6, sec. 1.3, with slight modifications\n",
    "note that word_to_syn(word) (from the above implementation)\n",
    "is in the beginning of the following function\n",
    "\"\"\"\n",
    "documents = [([word_to_syn(word) for word in list(movie_reviews.words(fileid))], category)\n",
    "             for category in movie_reviews.categories()\n",
    "             for fileid in movie_reviews.fileids(category)]\n",
    "\n",
    "random.shuffle(documents)\n",
    "\n",
    "all_words = nltk.FreqDist(w.lower() for w in movie_reviews.words())\n",
    "n_most_freq = 2000\n",
    "word_features = list(all_words)[:n_most_freq]\n",
    "\n",
    "def document_features(document):\n",
    "    document_words = set(document)\n",
    "    features = {}\n",
    "    for word in word_features:\n",
    "        features['contains({})'.format(word)] = (word in document_words)\n",
    "    return features"
   ]
  },
  {
   "cell_type": "code",
   "execution_count": 26,
   "id": "28f2b8d0-d8f4-44f6-b61b-c7ab867ffab1",
   "metadata": {},
   "outputs": [],
   "source": [
    "featuresets = [(document_features(d), c) for (d, c) in documents]\n",
    "\n",
    "split_ratio = 0.2 # TODO: modify\n",
    "train_set, test_set = train_test_split(featuresets, test_size=split_ratio)\n",
    "\n",
    "# TODO: select a suitable classifier\n",
    "classifier = nltk.NaiveBayesClassifier\n",
    "model = classifier.train(train_set)"
   ]
  },
  {
   "cell_type": "code",
   "execution_count": 27,
   "id": "fc056fa9-9cbb-492d-90b3-75014a89e458",
   "metadata": {},
   "outputs": [],
   "source": [
    "# TODO: return a flattened list of input words and their lemmas\n",
    "def synset_expansion(words):\n",
    "    synonyms = [wn.synsets(w) for w in words]\n",
    "    synonyms = [w for sublist in synonyms for w in sublist]\n",
    "    synonyms = [ss.lemma_names() for ss in synonyms]\n",
    "    synonyms = [w.lower() for sublist in synonyms for w in sublist]\n",
    "    return sorted(list(set(synonyms)))"
   ]
  },
  {
   "cell_type": "code",
   "execution_count": 28,
   "id": "23b87242-0f80-49d0-b9d2-d9de9a647938",
   "metadata": {},
   "outputs": [],
   "source": [
    "# some assertions to test your code :-)\n",
    "assert sorted(synset_expansion([\"pc\"])) == [\"microcomputer\", \"pc\", \"personal_computer\"]\n",
    "assert sorted(synset_expansion([\"programming\", \"coder\"])) == [\n",
    "    'coder',\n",
    "    'computer_programing',\n",
    "    'computer_programmer',\n",
    "    'computer_programming',\n",
    "    'program',\n",
    "    'programing',\n",
    "    'programme',\n",
    "    'programmer',\n",
    "    'programming',\n",
    "    'scheduling',\n",
    "    'software_engineer'\n",
    "]"
   ]
  },
  {
   "cell_type": "code",
   "execution_count": 29,
   "id": "3ac2370a-6e85-4b3e-a9e4-5f4dbeab15f1",
   "metadata": {},
   "outputs": [
    {
     "name": "stdout",
     "output_type": "stream",
     "text": [
      "Most Informative Features\n",
      "          contains(miss) = True              neg : pos    =      9.1 : 1.0\n",
      "         contains(mulan) = True              pos : neg    =      8.9 : 1.0\n",
      "        contains(seagal) = True              neg : pos    =      7.9 : 1.0\n",
      "         contains(damon) = True              pos : neg    =      6.9 : 1.0\n",
      "         contains(drama) = True              pos : neg    =      6.9 : 1.0\n",
      "Accuracy:  0.725\n"
     ]
    }
   ],
   "source": [
    "doc_featuresets = [(document_features(d), c) for (d, c) in documents]\n",
    "doc_train_set, doc_test_set = train_test_split(doc_featuresets, test_size=0.1)\n",
    "\n",
    "doc_model = model.train(doc_train_set)\n",
    "doc_model.show_most_informative_features(5)\n",
    "print(\"Accuracy: \", nltk.classify.accuracy(doc_model, doc_test_set))"
   ]
  },
  {
   "cell_type": "code",
   "execution_count": 34,
   "id": "714ec224-e865-47ee-976a-d72d5184a625",
   "metadata": {},
   "outputs": [],
   "source": [
    "def lexicon_features(reviews):\n",
    "    review_words = set(reviews)\n",
    "    features = {}\n",
    "    expanded_word_features = synset_expansion(word_features)\n",
    "    for word in expanded_word_features:\n",
    "        if word not in word_features:\n",
    "            features['synset({})'.format(word)] = (word in review_words)\n",
    "        features['contains({})'.format(word)] = (word in review_words)\n",
    "\n",
    "    return features"
   ]
  },
  {
   "cell_type": "markdown",
   "id": "97e280bf-409d-4444-9d70-bf95a8ba2d34",
   "metadata": {},
   "source": [
    "Question: do you see any issues with including the synsets? Experiment a bit with different words and verify your ideas."
   ]
  },
  {
   "cell_type": "code",
   "execution_count": null,
   "id": "d5a88411-251a-4acd-b83c-ed287c17c36b",
   "metadata": {},
   "outputs": [],
   "source": [
    "# warning: this may take some time to run\n",
    "lex_featuresets = [(lexicon_features(d), c) for (d, c) in documents]\n",
    "lex_train_set, lex_test_set = train_test_split(lex_featuresets, test_size=0.1)\n",
    "lex_model = model.train(lex_train_set)  # the same classifier as you defined above\n",
    "lex_model.show_most_informative_features()\n",
    "print(\"Accuracy: \", nltk.classify.accuracy(lex_model, lex_test_set))"
   ]
  },
  {
   "cell_type": "markdown",
   "id": "5b53b328-bbcb-4895-9047-ebaa3e9b543c",
   "metadata": {
    "tags": []
   },
   "source": [
    "## Exercise 4 -- Experimentation\n",
    "This exercise is largely open to experiment with and testing your skills thus far!\n",
    "Large websites are an ideal place to look for large corpora of natural language. In this exercise, you're free to implement what you've learned on real-world data, mined from youtube (see `youtube_data`). Reuse classes defined earlier on in the exercise if you want.\n",
    "\n",
    "The only requirement here is to **use a classifier not previously used in the exercise**"
   ]
  },
  {
   "cell_type": "markdown",
   "id": "91976cc1",
   "metadata": {},
   "source": [
    "with the help of: https://towardsdatascience.com/multi-class-text-classification-with-scikit-learn-12f1e60e0a9f"
   ]
  },
  {
   "cell_type": "markdown",
   "id": "2f6e06ea",
   "metadata": {},
   "source": [
    "### Step 1\n",
    "Selecting relevant columns from the youtube csv file"
   ]
  },
  {
   "cell_type": "code",
   "execution_count": 182,
   "id": "b43f06fb",
   "metadata": {},
   "outputs": [],
   "source": [
    "import pandas as pd\n",
    "import numpy as np"
   ]
  },
  {
   "cell_type": "code",
   "execution_count": 400,
   "id": "caf7f795",
   "metadata": {},
   "outputs": [
    {
     "data": {
      "text/html": [
       "<div>\n",
       "<style scoped>\n",
       "    .dataframe tbody tr th:only-of-type {\n",
       "        vertical-align: middle;\n",
       "    }\n",
       "\n",
       "    .dataframe tbody tr th {\n",
       "        vertical-align: top;\n",
       "    }\n",
       "\n",
       "    .dataframe thead th {\n",
       "        text-align: right;\n",
       "    }\n",
       "</style>\n",
       "<table border=\"1\" class=\"dataframe\">\n",
       "  <thead>\n",
       "    <tr style=\"text-align: right;\">\n",
       "      <th></th>\n",
       "      <th>title</th>\n",
       "      <th>category_id</th>\n",
       "      <th>tags</th>\n",
       "      <th>views</th>\n",
       "      <th>likes</th>\n",
       "      <th>dislikes</th>\n",
       "      <th>comment_count</th>\n",
       "      <th>description</th>\n",
       "    </tr>\n",
       "  </thead>\n",
       "  <tbody>\n",
       "    <tr>\n",
       "      <th>0</th>\n",
       "      <td>WE WANT TO TALK ABOUT OUR MARRIAGE</td>\n",
       "      <td>22</td>\n",
       "      <td>SHANtell martin</td>\n",
       "      <td>748374</td>\n",
       "      <td>57527</td>\n",
       "      <td>2966</td>\n",
       "      <td>15954</td>\n",
       "      <td>SHANTELL'S CHANNEL - https://www.youtube.com/s...</td>\n",
       "    </tr>\n",
       "    <tr>\n",
       "      <th>1</th>\n",
       "      <td>The Trump Presidency: Last Week Tonight with J...</td>\n",
       "      <td>24</td>\n",
       "      <td>last week tonight trump presidency|\"last week ...</td>\n",
       "      <td>2418783</td>\n",
       "      <td>97185</td>\n",
       "      <td>6146</td>\n",
       "      <td>12703</td>\n",
       "      <td>One year after the presidential election, John...</td>\n",
       "    </tr>\n",
       "    <tr>\n",
       "      <th>2</th>\n",
       "      <td>Racist Superman | Rudy Mancuso, King Bach &amp; Le...</td>\n",
       "      <td>23</td>\n",
       "      <td>racist superman|\"rudy\"|\"mancuso\"|\"king\"|\"bach\"...</td>\n",
       "      <td>3191434</td>\n",
       "      <td>146033</td>\n",
       "      <td>5339</td>\n",
       "      <td>8181</td>\n",
       "      <td>WATCH MY PREVIOUS VIDEO â¶ \\n\\nSUBSCRIBE âº ...</td>\n",
       "    </tr>\n",
       "    <tr>\n",
       "      <th>3</th>\n",
       "      <td>Nickelback Lyrics: Real or Fake?</td>\n",
       "      <td>24</td>\n",
       "      <td>rhett and link|\"gmm\"|\"good mythical morning\"|\"...</td>\n",
       "      <td>343168</td>\n",
       "      <td>10172</td>\n",
       "      <td>666</td>\n",
       "      <td>2146</td>\n",
       "      <td>Today we find out if Link is a Nickelback amat...</td>\n",
       "    </tr>\n",
       "    <tr>\n",
       "      <th>4</th>\n",
       "      <td>I Dare You: GOING BALD!?</td>\n",
       "      <td>24</td>\n",
       "      <td>ryan|\"higa\"|\"higatv\"|\"nigahiga\"|\"i dare you\"|\"...</td>\n",
       "      <td>2095731</td>\n",
       "      <td>132235</td>\n",
       "      <td>1989</td>\n",
       "      <td>17518</td>\n",
       "      <td>I know it's been a while since we did this sho...</td>\n",
       "    </tr>\n",
       "  </tbody>\n",
       "</table>\n",
       "</div>"
      ],
      "text/plain": [
       "                                               title  category_id  \\\n",
       "0                 WE WANT TO TALK ABOUT OUR MARRIAGE           22   \n",
       "1  The Trump Presidency: Last Week Tonight with J...           24   \n",
       "2  Racist Superman | Rudy Mancuso, King Bach & Le...           23   \n",
       "3                   Nickelback Lyrics: Real or Fake?           24   \n",
       "4                           I Dare You: GOING BALD!?           24   \n",
       "\n",
       "                                                tags    views   likes  \\\n",
       "0                                    SHANtell martin   748374   57527   \n",
       "1  last week tonight trump presidency|\"last week ...  2418783   97185   \n",
       "2  racist superman|\"rudy\"|\"mancuso\"|\"king\"|\"bach\"...  3191434  146033   \n",
       "3  rhett and link|\"gmm\"|\"good mythical morning\"|\"...   343168   10172   \n",
       "4  ryan|\"higa\"|\"higatv\"|\"nigahiga\"|\"i dare you\"|\"...  2095731  132235   \n",
       "\n",
       "   dislikes  comment_count                                        description  \n",
       "0      2966          15954  SHANTELL'S CHANNEL - https://www.youtube.com/s...  \n",
       "1      6146          12703  One year after the presidential election, John...  \n",
       "2      5339           8181  WATCH MY PREVIOUS VIDEO â¶ \\n\\nSUBSCRIBE âº ...  \n",
       "3       666           2146  Today we find out if Link is a Nickelback amat...  \n",
       "4      1989          17518  I know it's been a while since we did this sho...  "
      ]
     },
     "execution_count": 400,
     "metadata": {},
     "output_type": "execute_result"
    }
   ],
   "source": [
    "youtube = pd.read_csv(\n",
    "    './youtube_data/videos.csv',\n",
    "    usecols=[\"title\", \"category_id\", \"tags\", \"views\", \"likes\", \"dislikes\", \"comment_count\", \"description\"],\n",
    "    encoding=\"latin-1\"\n",
    ")\n",
    "youtube.notna()\n",
    "youtube.head()"
   ]
  },
  {
   "cell_type": "code",
   "execution_count": 221,
   "id": "d2ceadaf",
   "metadata": {},
   "outputs": [
    {
     "name": "stdout",
     "output_type": "stream",
     "text": [
      "0        SHANTELL'S CHANNEL - https://www.youtube.com/s...\n",
      "1        One year after the presidential election, John...\n",
      "2        WATCH MY PREVIOUS VIDEO â¶ \\n\\nSUBSCRIBE âº ...\n",
      "3        Today we find out if Link is a Nickelback amat...\n",
      "4        I know it's been a while since we did this sho...\n",
      "                               ...                        \n",
      "40944       The Cat Who Caught the Laser - Aaron's Animals\n",
      "40945                                                  NaN\n",
      "40946    I had so much fun transforming Safiyas hair in...\n",
      "40947    How Black Panther Should Have EndedWatch More ...\n",
      "40948    Call of Duty: Black Ops 4 Multiplayer raises t...\n",
      "Name: description, Length: 40949, dtype: object\n"
     ]
    }
   ],
   "source": [
    "print(youtube.description)"
   ]
  },
  {
   "cell_type": "markdown",
   "id": "27fc311c",
   "metadata": {},
   "source": [
    "### Step 2\n",
    "Cleaning and preparing the text"
   ]
  },
  {
   "cell_type": "code",
   "execution_count": 399,
   "id": "08256bf1",
   "metadata": {},
   "outputs": [],
   "source": [
    "import string\n",
    "\"\"\" \n",
    "Modify TextCleaner class to include:\n",
    "-removing punctuation\n",
    "-decoding non-ascii characters\n",
    "-removing whitespaces\n",
    " \"\"\"\n",
    "class TextCleaner_v2:\n",
    "    def __init__(self, text):\n",
    "        translator = str.maketrans('', '', string.punctuation)\n",
    "        self.text = str(text).translate(translator)\n",
    "        self.text = nltk.word_tokenize(self.text) # TODO: tokenize\n",
    "        self.stemmer = stem.lancaster.LancasterStemmer() # TODO: incorporate a stemmer of your choice\n",
    "        self.stopwords = set(stopwords.words('english'))\n",
    "        self.lem = WordNetLemmatizer() # TODO: lemmatizer\n",
    "    \n",
    "    \"\"\"\n",
    "    Create small functions to replace your tokens (self.text)\n",
    "    iteratively. Such as a lowercase function.\n",
    "    \"\"\"\n",
    "    def lowercase(self):\n",
    "        self.text = [w.lower() for w in self.text]\n",
    "\n",
    "    def stem_words(self):\n",
    "        self.text = map(lambda word: self.stemmer.stem(word), self.text)\n",
    "\n",
    "    def remove_non_ascii_char(self):\n",
    "        self.text = [word.encode('ascii', 'ignore').decode('ascii') for word in self.text]\n",
    "        #self.text = [word.encode('ascii', 'ignore').word.decode('ascii') for word in self.text]\n",
    "\n",
    "    def remove_whitespace(self):\n",
    "        self.text = [\" \".join(word.split()) for word in self.text]\n",
    "\n",
    "    def remove_stopwords(self):\n",
    "        self.text = [word for word in self.text if word not in self.stopwords]\n",
    "\n",
    "    def lemmatizer(self):\n",
    "        self.text = map(lambda word: self.lem.lemmatize(word), self.text)    \n",
    "\n",
    "    def remove_words_start_http(self):\n",
    "        self.text = [word for word in self.text if 'http' not in word]\n",
    "\n",
    "        \n",
    "    def clean(self):\n",
    "        self.lowercase()\n",
    "        self.remove_non_ascii_char()\n",
    "        self.remove_stopwords()\n",
    "        #self.stem_words()\n",
    "        self.lemmatizer()\n",
    "        self.remove_words_start_http()\n",
    "\n",
    "        # finally, return it as a text \n",
    "        return \" \".join(self.text)"
   ]
  },
  {
   "cell_type": "code",
   "execution_count": 401,
   "id": "e4f7575f",
   "metadata": {},
   "outputs": [
    {
     "data": {
      "text/html": [
       "<div>\n",
       "<style scoped>\n",
       "    .dataframe tbody tr th:only-of-type {\n",
       "        vertical-align: middle;\n",
       "    }\n",
       "\n",
       "    .dataframe tbody tr th {\n",
       "        vertical-align: top;\n",
       "    }\n",
       "\n",
       "    .dataframe thead th {\n",
       "        text-align: right;\n",
       "    }\n",
       "</style>\n",
       "<table border=\"1\" class=\"dataframe\">\n",
       "  <thead>\n",
       "    <tr style=\"text-align: right;\">\n",
       "      <th></th>\n",
       "      <th>title</th>\n",
       "      <th>category_id</th>\n",
       "      <th>tags</th>\n",
       "      <th>views</th>\n",
       "      <th>likes</th>\n",
       "      <th>dislikes</th>\n",
       "      <th>comment_count</th>\n",
       "      <th>description</th>\n",
       "    </tr>\n",
       "  </thead>\n",
       "  <tbody>\n",
       "    <tr>\n",
       "      <th>0</th>\n",
       "      <td>want talk marriage</td>\n",
       "      <td>22</td>\n",
       "      <td>SHANtell martin</td>\n",
       "      <td>748374</td>\n",
       "      <td>57527</td>\n",
       "      <td>2966</td>\n",
       "      <td>15954</td>\n",
       "      <td>shantells channel video 4k lens drone gear cam...</td>\n",
       "    </tr>\n",
       "    <tr>\n",
       "      <th>1</th>\n",
       "      <td>trump presidency last week tonight john oliver...</td>\n",
       "      <td>24</td>\n",
       "      <td>last week tonight trump presidency last week t...</td>\n",
       "      <td>2418783</td>\n",
       "      <td>97185</td>\n",
       "      <td>6146</td>\n",
       "      <td>12703</td>\n",
       "      <td>one year presidential election john oliver dis...</td>\n",
       "    </tr>\n",
       "    <tr>\n",
       "      <th>2</th>\n",
       "      <td>racist superman rudy mancuso king bach lele pons</td>\n",
       "      <td>23</td>\n",
       "      <td>racist superman rudy mancuso king bach racist ...</td>\n",
       "      <td>3191434</td>\n",
       "      <td>146033</td>\n",
       "      <td>5339</td>\n",
       "      <td>8181</td>\n",
       "      <td>watch previous video  nnsubscribe  watching li...</td>\n",
       "    </tr>\n",
       "    <tr>\n",
       "      <th>3</th>\n",
       "      <td>nickelback lyric real fake</td>\n",
       "      <td>24</td>\n",
       "      <td>rhett and link gmm good mythical morning rhett...</td>\n",
       "      <td>343168</td>\n",
       "      <td>10172</td>\n",
       "      <td>666</td>\n",
       "      <td>2146</td>\n",
       "      <td>today find link nickelback amateur secret nick...</td>\n",
       "    </tr>\n",
       "    <tr>\n",
       "      <th>4</th>\n",
       "      <td>dare going bald</td>\n",
       "      <td>24</td>\n",
       "      <td>ryan higa higatv nigahiga i dare you idy rhpc ...</td>\n",
       "      <td>2095731</td>\n",
       "      <td>132235</td>\n",
       "      <td>1989</td>\n",
       "      <td>17518</td>\n",
       "      <td>know since show back might best episode yetnle...</td>\n",
       "    </tr>\n",
       "  </tbody>\n",
       "</table>\n",
       "</div>"
      ],
      "text/plain": [
       "                                               title  category_id  \\\n",
       "0                                 want talk marriage           22   \n",
       "1  trump presidency last week tonight john oliver...           24   \n",
       "2   racist superman rudy mancuso king bach lele pons           23   \n",
       "3                         nickelback lyric real fake           24   \n",
       "4                                    dare going bald           24   \n",
       "\n",
       "                                                tags    views   likes  \\\n",
       "0                                    SHANtell martin   748374   57527   \n",
       "1  last week tonight trump presidency last week t...  2418783   97185   \n",
       "2  racist superman rudy mancuso king bach racist ...  3191434  146033   \n",
       "3  rhett and link gmm good mythical morning rhett...   343168   10172   \n",
       "4  ryan higa higatv nigahiga i dare you idy rhpc ...  2095731  132235   \n",
       "\n",
       "   dislikes  comment_count                                        description  \n",
       "0      2966          15954  shantells channel video 4k lens drone gear cam...  \n",
       "1      6146          12703  one year presidential election john oliver dis...  \n",
       "2      5339           8181  watch previous video  nnsubscribe  watching li...  \n",
       "3       666           2146  today find link nickelback amateur secret nick...  \n",
       "4      1989          17518  know since show back might best episode yetnle...  "
      ]
     },
     "execution_count": 401,
     "metadata": {},
     "output_type": "execute_result"
    }
   ],
   "source": [
    "clean = lambda text: TextCleaner_v2(text).clean()\n",
    "youtube.title = youtube.title.apply(clean) \n",
    "youtube.description = youtube.description.apply(clean) \n",
    "youtube.tags = youtube.tags.str.replace('\"','', regex=True).str.replace(\"|\",\" \", regex=True)\n",
    "\n",
    "youtube.head()"
   ]
  },
  {
   "cell_type": "markdown",
   "id": "b4e167dd",
   "metadata": {},
   "source": [
    "### Step 3\n",
    "Read youtube category data from json file"
   ]
  },
  {
   "cell_type": "code",
   "execution_count": 443,
   "id": "208b93a9",
   "metadata": {},
   "outputs": [],
   "source": [
    "import json\n",
    "with open('youtube_data/category_id.json') as data_file:    \n",
    "    category_data = json.load(data_file)\n",
    "\n",
    "\n",
    "# filter only on the categories present in the videos.csv file\n",
    "id_to_category = [(int(el['id']),el['snippet']['title']) for el in category_data if int(el['id'] ) in cat_in_youtube_data]"
   ]
  },
  {
   "cell_type": "code",
   "execution_count": 520,
   "metadata": {},
   "outputs": [
    {
     "data": {
      "text/plain": [
       "['Film & Animation',\n",
       " 'Autos & Vehicles',\n",
       " 'Music',\n",
       " 'Pets & Animals',\n",
       " 'Sports',\n",
       " 'Travel & Events',\n",
       " 'Gaming',\n",
       " 'People & Blogs',\n",
       " 'Comedy',\n",
       " 'Entertainment',\n",
       " 'News & Politics',\n",
       " 'Howto & Style',\n",
       " 'Education',\n",
       " 'Science & Technology',\n",
       " 'Nonprofits & Activism',\n",
       " 'Shows']"
      ]
     },
     "execution_count": 520,
     "metadata": {},
     "output_type": "execute_result"
    }
   ],
   "source": [
    "#transform the list into various forms to be usefull for later\n",
    "id_dict = dict(id_to_category)\n",
    "list_id = id_dict.keys()\n",
    "list_cat = list(id_dict.values())\n",
    "\n",
    "list_cat"
   ]
  },
  {
   "cell_type": "markdown",
   "id": "86fe454a",
   "metadata": {},
   "source": [
    "### Step 4\n",
    "Make new dataframe with only necessary data"
   ]
  },
  {
   "cell_type": "code",
   "execution_count": 516,
   "id": "b4c8ce4d",
   "metadata": {},
   "outputs": [],
   "source": [
    "youtube_data = [youtube['category_id'], youtube['description']]\n",
    "headers = ['category_id','description']\n",
    "youtube_data = pd.concat(youtube_data, axis=1, keys=headers)\n",
    "\n",
    "#getting the unique categories from the youtube data\n",
    "cat_in_youtube_data = list(set(youtube_data.category_id.to_list()))"
   ]
  },
  {
   "cell_type": "code",
   "execution_count": 522,
   "id": "40d2c9a4",
   "metadata": {},
   "outputs": [
    {
     "data": {
      "image/png": "[encoded data removed]",
      "text/plain": [
       "<Figure size 1440x576 with 1 Axes>"
      ]
     },
     "metadata": {
      "needs_background": "light"
     },
     "output_type": "display_data"
    }
   ],
   "source": [
    "import matplotlib.pyplot as plt\n",
    "fig = plt.figure(figsize=(20,8))\n",
    "\n",
    "youtube_data.groupby('category_id').description.count().plot.bar(ylim=0)\n",
    "ax = youtube_data.category_id.plot()\n",
    "\n",
    "#Plotting names from the category_id json file to the x-axis labels\n",
    "ax.set_xticklabels(list_cat, rotation=90)\n",
    "plt.show()"
   ]
  },
  {
   "cell_type": "markdown",
   "id": "44dee331",
   "metadata": {},
   "source": [
    "PS. In this exercise I wanted to train a classifier for more than two categories, like they do here https://towardsdatascience.com/multi-class-text-classification-with-scikit-learn-12f1e60e0a9f. Unfortunately, I do not have time to finish it but did as much as I had time for."
   ]
  }
 ],
 "metadata": {
  "interpreter": {
   "hash": "63fd5069d213b44bf678585dea6b12cceca9941eaf7f819626cde1f2670de90d"
  },
  "kernelspec": {
   "display_name": "Python 3.9.9 ('base')",
   "language": "python",
   "name": "python3"
  },
  "language_info": {
   "codemirror_mode": {
    "name": "ipython",
    "version": 3
   },
   "file_extension": ".py",
   "mimetype": "text/x-python",
   "name": "python",
   "nbconvert_exporter": "python",
   "pygments_lexer": "ipython3",
   "version": "3.9.7"
  }
 },
 "nbformat": 4,
 "nbformat_minor": 5
}
