{
 "cells": [
  {
   "cell_type": "markdown",
   "id": "36036e78",
   "metadata": {},
   "source": [
    "# Exercises"
   ]
  },
  {
   "cell_type": "markdown",
   "id": "d769761f",
   "metadata": {},
   "source": [
    "## 1 – Managing text and filtering\n",
    "\n",
    "Using the following words:\n",
    "\n",
    "**[\" further \", \" Forward \", \" Foreign \", \" financE \", \" Forgive \", \" feature \", \" federal \",\n",
    "\" failurE \", \" Feeling \", \" finding \", \" freedom \", \" Foundry \"]**"
   ]
  },
  {
   "cell_type": "code",
   "execution_count": 106,
   "id": "a124dc47",
   "metadata": {},
   "outputs": [],
   "source": [
    "words_array=[\"further\", \"Forward\", \"Foreign\", \"financE\", \"Forgive\", \"feature\", \"federal\", \"failurE\", \"Feeling\", \"finding\", \"freedom\", \"Foundry\"]"
   ]
  },
  {
   "cell_type": "markdown",
   "id": "0eaed18e",
   "metadata": {},
   "source": [
    "**(a) Print all words beginning with *fo***"
   ]
  },
  {
   "cell_type": "code",
   "execution_count": 107,
   "id": "fa7bf956",
   "metadata": {},
   "outputs": [
    {
     "name": "stdout",
     "output_type": "stream",
     "text": [
      "forward\n",
      "foreign\n",
      "forgive\n",
      "foundry\n"
     ]
    }
   ],
   "source": [
    "cleaned_words_array=map(lambda word: word.lower(), words_array)\n",
    "\n",
    "for word in cleaned_words_array:\n",
    "    if word.startswith(\"fo\"):\n",
    "        print(word)"
   ]
  },
  {
   "cell_type": "markdown",
   "id": "c83597d5",
   "metadata": {},
   "source": [
    "**(b) Print all words ending with *e***"
   ]
  },
  {
   "cell_type": "code",
   "execution_count": 108,
   "id": "206ffac1",
   "metadata": {},
   "outputs": [
    {
     "name": "stdout",
     "output_type": "stream",
     "text": [
      "finance\n",
      "forgive\n",
      "feature\n",
      "failure\n"
     ]
    }
   ],
   "source": [
    "cleaned_words_array=map(lambda word: word.lower(), words_array)\n",
    "\n",
    "for word in cleaned_words_array:\n",
    "    if word.endswith(\"e\"):\n",
    "        print(word)"
   ]
  },
  {
   "cell_type": "markdown",
   "id": "867de7e9",
   "metadata": {},
   "source": [
    "**(c) Reflect on how simple techniques like these can bring value to a project**"
   ]
  },
  {
   "cell_type": "markdown",
   "id": "e62e4e7c",
   "metadata": {},
   "source": [
    "Basic filtering, and text cleaning techniques are important when a project needs to analyse text to extract value from them. Working with only lowercase text, removing stopwords and punctuation marks, leaves words that add more value when they finally are analyzed."
   ]
  },
  {
   "cell_type": "markdown",
   "id": "49fca424",
   "metadata": {},
   "source": [
    "**(d) Converting words to lowercase is a frequent process in text cleaning. Can you think of any issues\n",
    "that arise by doing this?**"
   ]
  },
  {
   "cell_type": "markdown",
   "id": "5fdef582",
   "metadata": {},
   "source": [
    "An issue that can arise, is if the word isn't uppercase because it starts a new sentence, but beacuse it has a special meaning. That word would loose it's meaning when it's converted to lowercase. In addition, in case a word being in uppercase can be usefull to distinguish a different sentence, that clue would be gone."
   ]
  },
  {
   "cell_type": "markdown",
   "id": "2f34af94",
   "metadata": {},
   "source": [
    "## 2 – Reading a corpus"
   ]
  },
  {
   "cell_type": "markdown",
   "id": "26dc52e4",
   "metadata": {},
   "source": [
    "In NLTK, several corpora are available.\n",
    "Load the Brown corpus and extract data (i.e. words) from at least two categories of your choice (or all). The goal is to find basic trends or identifiers for each category (i.e. spotting differences in the data). Do the following:"
   ]
  },
  {
   "cell_type": "markdown",
   "id": "a09abb68",
   "metadata": {},
   "source": [
    "**(a) Look at the top 5 most common words. Do you notice any similarities? Explain your findings**"
   ]
  },
  {
   "cell_type": "code",
   "execution_count": 109,
   "id": "5db591b0",
   "metadata": {},
   "outputs": [],
   "source": [
    "import nltk"
   ]
  },
  {
   "cell_type": "code",
   "execution_count": 110,
   "id": "6db93762",
   "metadata": {},
   "outputs": [
    {
     "name": "stdout",
     "output_type": "stream",
     "text": [
      "Religion text:\n",
      "1 - the 2480 occurrences\n",
      "2 - of 1505 occurrences\n",
      "3 - and 962 occurrences\n",
      "4 - to 904 occurrences\n",
      "5 - in 774 occurrences\n",
      "\n",
      "News text:\n",
      "1 - the 6386 occurrences\n",
      "2 - of 2861 occurrences\n",
      "3 - and 2186 occurrences\n",
      "4 - to 2144 occurrences\n",
      "5 - a 2130 occurrences\n"
     ]
    }
   ],
   "source": [
    "from nltk.corpus import brown\n",
    "\n",
    "religion_text = brown.words(categories='religion')\n",
    "fdist = nltk.FreqDist(word.lower() for word in religion_text if word.isalnum())\n",
    "five_most_common = fdist.most_common(5)\n",
    "i=1\n",
    "print(\"Religion text:\")\n",
    "for word, count in five_most_common:\n",
    "    print(i,'-', word, count, 'occurrences')\n",
    "    i+=1\n",
    "    \n",
    "\n",
    "news_text = brown.words(categories='news')\n",
    "fdist = nltk.FreqDist(word.lower() for word in news_text if word.isalnum())\n",
    "five_most_common = fdist.most_common(5)\n",
    "i=1\n",
    "print(\"\\nNews text:\")\n",
    "for word, count in five_most_common:\n",
    "    print(i,'-', word, count, 'occurrences')\n",
    "    i+=1\n"
   ]
  },
  {
   "cell_type": "markdown",
   "id": "cfcf9e25",
   "metadata": {},
   "source": [
    "Analyzing the results of the top 5 common words between the religious' texts vs the news' texts in the Brown corpus, shows that all the top 5 common words in both are stopwords. This makes sense, since stopwords are frequently used in languages, and there is a specific amount of stopwords being used in English."
   ]
  },
  {
   "cell_type": "markdown",
   "id": "ba7233db",
   "metadata": {},
   "source": [
    "**(b) Filter stopwords and repeat (a). Describe at least two new techniques you would use to further\n",
    "improve the result**"
   ]
  },
  {
   "cell_type": "code",
   "execution_count": 111,
   "id": "deae6ec3",
   "metadata": {},
   "outputs": [
    {
     "name": "stdout",
     "output_type": "stream",
     "text": [
      "Religion text:\n",
      "1 - god 136 occurrences\n",
      "2 - one 104 occurrences\n",
      "3 - new 99 occurrences\n",
      "4 - world 94 occurrences\n",
      "5 - church 94 occurrences\n",
      "\n",
      "News text:\n",
      "1 - said 406 occurrences\n",
      "2 - would 246 occurrences\n",
      "3 - new 241 occurrences\n",
      "4 - one 213 occurrences\n",
      "5 - last 177 occurrences\n"
     ]
    }
   ],
   "source": [
    "from nltk.corpus import brown, stopwords\n",
    "\n",
    "stop_words = set(stopwords.words('english'))\n",
    "\n",
    "religion_text = brown.words(categories='religion')\n",
    "filtered_religion_text = [word for word in religion_text if not word.lower() in stop_words]\n",
    "\n",
    "fdist = nltk.FreqDist(word.lower() for word in filtered_religion_text if word.isalnum())\n",
    "five_most_common = fdist.most_common(5)\n",
    "i=1\n",
    "print(\"Religion text:\")\n",
    "for word, count in five_most_common:\n",
    "    print(i,'-', word, count, 'occurrences')\n",
    "    i+=1\n",
    "    \n",
    "\n",
    "news_text = brown.words(categories='news')\n",
    "filtered_news_text = [word for word in news_text if not word.lower() in stop_words]\n",
    "\n",
    "fdist = nltk.FreqDist(word.lower() for word in filtered_news_text if word.isalnum())\n",
    "five_most_common = fdist.most_common(5)\n",
    "i=1\n",
    "print(\"\\nNews text:\")\n",
    "for word, count in five_most_common:\n",
    "    print(i,'-', word, count, 'occurrences')\n",
    "    i+=1"
   ]
  },
  {
   "cell_type": "markdown",
   "id": "f4a9c85b",
   "metadata": {},
   "source": [
    "Other techniques I would use to improve the results are:\n",
    "- Stemming: grouping words by their word stem.\n",
    "- Lemmatization: simplifying words, but by taking into account their meaning."
   ]
  },
  {
   "cell_type": "markdown",
   "id": "6502c775",
   "metadata": {},
   "source": [
    "**(c) Implement at least one technique of your choice and repeat (a)**"
   ]
  },
  {
   "cell_type": "markdown",
   "id": "b7398dd3",
   "metadata": {},
   "source": [
    "Implementing stemming with nltk Porter stemmer algorithm:"
   ]
  },
  {
   "cell_type": "code",
   "execution_count": 112,
   "id": "e378d7eb",
   "metadata": {},
   "outputs": [
    {
     "name": "stdout",
     "output_type": "stream",
     "text": [
      "Religion text:\n",
      "1 - god 138 occurrences\n",
      "2 - church 127 occurrences\n",
      "3 - one 110 occurrences\n",
      "4 - new 99 occurrences\n",
      "5 - world 95 occurrences\n",
      "\n",
      "News text:\n",
      "1 - said 406 occurrences\n",
      "2 - would 246 occurrences\n",
      "3 - year 244 occurrences\n",
      "4 - new 242 occurrences\n",
      "5 - one 221 occurrences\n"
     ]
    }
   ],
   "source": [
    "from nltk.stem.porter import PorterStemmer\n",
    "\n",
    "stemmed_rel_text = map(lambda word: PorterStemmer().stem(word), filtered_religion_text)\n",
    "\n",
    "fdist = nltk.FreqDist(word.lower() for word in stemmed_rel_text if word.isalnum())\n",
    "five_most_common = fdist.most_common(5)\n",
    "i=1\n",
    "print(\"Religion text:\")\n",
    "for word, count in five_most_common:\n",
    "    print(i,'-', word, count, 'occurrences')\n",
    "    i+=1\n",
    "    \n",
    "stemmed_news_text = map(lambda word: PorterStemmer().stem(word), filtered_news_text)\n",
    "\n",
    "fdist = nltk.FreqDist(word.lower() for word in stemmed_news_text if word.isalnum())\n",
    "five_most_common = fdist.most_common(5)\n",
    "i=1\n",
    "print(\"\\nNews text:\")\n",
    "for word, count in five_most_common:\n",
    "    print(i,'-', word, count, 'occurrences')\n",
    "    i+=1"
   ]
  },
  {
   "cell_type": "markdown",
   "id": "7d8814fc",
   "metadata": {},
   "source": [
    "For religious' texts, \"church\" climbed up the common words list 94 occurrences before stemming to 127. \n",
    "In news' texts \"year\" appeares in the list with 244 occurrences."
   ]
  },
  {
   "cell_type": "markdown",
   "id": "e6a1c671",
   "metadata": {},
   "source": [
    "**(d) Plot a feature you find interesting (e.g. lexical diversity). NLTK has several built-in methods for\n",
    "plotting (make sure you have Matplotlib installed!)**"
   ]
  },
  {
   "cell_type": "code",
   "execution_count": 285,
   "id": "0f7cff49",
   "metadata": {
    "scrolled": true
   },
   "outputs": [
    {
     "data": {
      "image/png": "[encoded data removed]",
      "text/plain": [
       "<Figure size 2160x1440 with 1 Axes>"
      ]
     },
     "metadata": {
      "needs_background": "light"
     },
     "output_type": "display_data"
    }
   ],
   "source": [
    "from nltk.corpus import brown\n",
    "import matplotlib.pyplot as plt\n",
    "\n",
    "plt.figure(figsize=(30, 20))\n",
    "\n",
    "def get_lexical_diversity_brown_texts():\n",
    "    filtered_text=[]\n",
    "    lexical_diversity_per_category=[]\n",
    "    for category in brown.categories():\n",
    "        for word in brown.words(categories=category):\n",
    "            if not word.lower() in stop_words:\n",
    "                filtered_text.append(word)\n",
    "        lexical_diversity_per_category.append([category, '{:.3f}'.format(len(set(filtered_text))/len(filtered_text))])\n",
    "    return lexical_diversity_per_category\n",
    "\n",
    "brown_avg_vocab_per_category=get_lexical_diversity_brown_texts()\n",
    "\n",
    "categories=[]\n",
    "avgs =[]\n",
    "for cat, avg in brown_avg_vocab_per_category:\n",
    "    categories.append(cat)\n",
    "    avgs.append(avg)\n",
    "\n",
    "avgs.reverse()\n",
    "categories.reverse()\n",
    "\n",
    "plt.plot(avgs,categories)\n",
    "plt.title('Lexical Diversity in Brown categories')\n",
    "plt.xlabel('categories')\n",
    "plt.ylabel('lexical diversity')\n",
    "\n",
    "plt.show()\n",
    "        \n",
    "\n"
   ]
  },
  {
   "cell_type": "markdown",
   "id": "cc631d63",
   "metadata": {},
   "source": [
    "In this figure the lexical diversity of all the categories in the Brown corpus can be seen.\n",
    "The lexical diversity ratio tells us how many distinct words there are in a text, where a higher score signifies a higher diversity.\n",
    "\n",
    "About how to calculate lexical diversity: https://uio-ccse.github.io/algoritmisk-tenkning-humanister/02_computational_linguistics/W2_Lecture.html"
   ]
  },
  {
   "cell_type": "markdown",
   "id": "a88ca2fd",
   "metadata": {},
   "source": [
    "## 3 - Building your own corpus\n"
   ]
  },
  {
   "cell_type": "markdown",
   "id": "29b5730e",
   "metadata": {},
   "source": [
    "A real-world project needs updated data. Not all services provide proper APIs to access their data,\n",
    "and must thus be mined. In this task, you need to build a web scraper for your favorite news site,\n",
    "separating each article. Norwegian sites can also be used, you can find a list of stopwords here: https:\n",
    "//gist.github.com/kmelve/8869818.\n",
    "The following data should be extracted:\n",
    "1. Headline\n",
    "2. Ingress\n",
    "3. Several sentences from the text body\n",
    "4. Published date\n",
    "5. Topic, if it is easily accessible. Several news sites allow you to browse news by category.\n",
    "6. URL\n",
    "Try to use at least 50 articles for somewhat interesting results. However, feel free to create your own huge\n",
    "dataset for future use! The data may be saved in any format of your choice (e.g., .txt, .json), as long as\n",
    "you are able to load the content into a Python program. If you managed to separate on topics, feel free\n",
    "to do the tasks d-f below separately for each topic (easy once you have the code for one)\n"
   ]
  },
  {
   "cell_type": "raw",
   "id": "2ba1ea5d",
   "metadata": {},
   "source": [
    "https://www.gamesradar.com/uk/ , https://www.nationalgeographic.com/ or https://arstechnica.com/"
   ]
  },
  {
   "cell_type": "code",
   "execution_count": null,
   "id": "26102c73",
   "metadata": {},
   "outputs": [
    {
     "name": "stderr",
     "output_type": "stream",
     "text": [
      "\n",
      "\n",
      "====== WebDriver manager ======\n",
      "Current google-chrome version is 97.0.4692\n",
      "Get LATEST chromedriver version for 97.0.4692 google-chrome\n",
      "Trying to download new driver from https://chromedriver.storage.googleapis.com/97.0.4692.71/chromedriver_win32.zip\n",
      "Driver has been saved in cache [C:\\Users\\phajs\\.wdm\\drivers\\chromedriver\\win32\\97.0.4692.71]\n",
      "C:\\Users\\phajs\\AppData\\Local\\Temp\\ipykernel_9788\\1172099546.py:5: DeprecationWarning: executable_path has been deprecated, please pass in a Service object\n",
      "  driver = webdriver.Chrome(ChromeDriverManager().install())\n"
     ]
    }
   ],
   "source": [
    "from selenium import webdriver\n",
    "from webdriver_manager.chrome import ChromeDriverManager\n",
    "from bs4 import BeautifulSoup\n",
    "\n",
    "driver = webdriver.Chrome(ChromeDriverManager().install())\n",
    "driver.get('https://arstechnica.com')\n",
    "content = driver.page_source\n",
    "soup = BeautifulSoup(content, features=\"html.parser\")\n",
    "tabs = soup.find_all('li')\n",
    "\n",
    "driver.quit()"
   ]
  },
  {
   "cell_type": "code",
   "execution_count": 126,
   "id": "dc565570",
   "metadata": {},
   "outputs": [
    {
     "name": "stdout",
     "output_type": "stream",
     "text": [
      "['/information-technology/', '/gadgets/', '/science/', '/tech-policy/', '/cars/', '/gaming/']\n"
     ]
    }
   ],
   "source": [
    "topics = []\n",
    "for tab in tabs[:6]:\n",
    "    topics.append(tab.find('a')['href'])\n",
    "\n",
    "print(topics)"
   ]
  },
  {
   "cell_type": "markdown",
   "id": "3bc51e8a",
   "metadata": {},
   "source": [
    "Find news in information technology"
   ]
  },
  {
   "cell_type": "code",
   "execution_count": 184,
   "id": "4a940172",
   "metadata": {},
   "outputs": [],
   "source": [
    "import json\n",
    "\n",
    "def ArticleContent(url):\n",
    "    driver = webdriver.Chrome(ChromeDriverManager().install())\n",
    "    driver.get(url)\n",
    "    content = driver.page_source\n",
    "    driver.quit()\n",
    "    parsed_article = BeautifulSoup(content, features=\"html.parser\")\n",
    "    article_content = parsed_article.find('div', class_=\"article-content\").find_all('p')[:2]\n",
    "    content = \"\"\n",
    "    for el in article_content:\n",
    "        content = content + el.get_text()\n",
    "    return content\n",
    "\n",
    "def ArticleScraper(parsed_content):\n",
    "    json_list=[]\n",
    "    main = parsed_content.find(\"main\")\n",
    "    articles = main.find('ol').find_all('li')\n",
    "    topic = parsed_content.find('title').string.split('|')[0]\n",
    "    for li in articles:\n",
    "        header = li.h2.get_text()\n",
    "        ingress = li.find('p', class_='excerpt').get_text()\n",
    "        published = li.find('p', class_='byline').time.string.split(',')[0]\n",
    "        url = li.h2.a.attrs['href']\n",
    "        article_text = ArticleContent(url)\n",
    "        article_object = {\n",
    "            \"header\": header,\n",
    "            \"ingress\": ingress,\n",
    "            \"published\": published,\n",
    "            \"topic\": topic,\n",
    "            \"body\": article_text,\n",
    "            \"url\": url\n",
    "            }\n",
    "        json_article = json.dumps(article_object)\n",
    "        json_list.append(json_article)\n",
    "    return json_list\n",
    "\n",
    "def main():\n",
    "    json_list=[]\n",
    "    for topic in topics:\n",
    "        driver = webdriver.Chrome(ChromeDriverManager().install())\n",
    "        ars_technica = 'https://arstechnica.com'+topic\n",
    "        driver.get(ars_technica)\n",
    "        content = driver.page_source\n",
    "        parsed_content = BeautifulSoup(content, features=\"html.parser\")\n",
    "        json_list.extend(ArticleScraper(parsed_content))\n",
    "        driver.quit()\n",
    "    return json_list"
   ]
  },
  {
   "cell_type": "code",
   "execution_count": null,
   "id": "089f534d",
   "metadata": {},
   "outputs": [],
   "source": [
    "articles = main()"
   ]
  },
  {
   "cell_type": "code",
   "execution_count": 213,
   "id": "b033d011",
   "metadata": {},
   "outputs": [],
   "source": [
    "with open('ars_technica.txt', 'w') as f:\n",
    "    for element in articles:\n",
    "        f.write(element+\"\\n\")"
   ]
  },
  {
   "cell_type": "markdown",
   "id": "b6f6c7a5",
   "metadata": {},
   "source": [
    "Try to use at least 50 articles for somewhat interesting results. However, feel free to create your own huge dataset for future use! The data may be saved in any format of your choice (e.g., .txt, .json), as long as you are able to load the content into a Python program. If you managed to separate on topics, feel free to do the tasks d-f below separately for each topic (easy once you have the code for one)"
   ]
  },
  {
   "cell_type": "markdown",
   "id": "26ea4760",
   "metadata": {},
   "source": [
    "**(a) Build the corpus. Chapter 2, section 1.9 (NLTK) and Chapter 2 (ATAP) explain of how this can be\n",
    "done using NLTK (e.g., using a custom HTMLCorpusReader), but you are free to load the text as\n",
    "you prefer. As long as the code is readable!**"
   ]
  },
  {
   "cell_type": "code",
   "execution_count": 225,
   "id": "bded8e1e",
   "metadata": {},
   "outputs": [
    {
     "name": "stdout",
     "output_type": "stream",
     "text": [
      "[['{\"', 'header', '\":', '\"', 'New', '\\\\', 'u201cStarlink', 'Premium', '\\\\', 'u201d', 'costs', '$', '500', '/', 'month', ',', 'ships', 'sooner', 'than', 'standard', 'Starlink', '\",', '\"', 'ingress', '\":', '\"', 'Starlink', 'Premium', 'ships', 'in', 'Q2', ',', '\\\\\"', 'has', 'more', 'than', 'double', 'the', 'antenna', 'capability', '.\\\\\"\",', '\"', 'published', '\":', '\"', '2', '/', '2', '/', '2022', '\",', '\"', 'topic', '\":', '\"', 'Biz', '&', 'IT', '\",', '\"', 'body', '\":', '\"', 'Starlink', 'has', 'started', 'taking', 'orders', 'for', 'a', 'premium', 'service', 'with', 'a', 'bigger', 'antenna', 'that', 'delivers', 'download', 'speeds', 'of', 'up', 'to', '500Mbps', ',', 'and', 'it', 'costs', 'five', 'times', 'as', 'much', 'as', 'the', 'standard', 'service', ':', '$', '2', ',', '500', 'for', 'the', 'hardware', 'and', '$', '500', 'per', 'month', 'for', 'Internet', 'access', '.\\\\\"', 'Starlink', 'Premium', 'has', 'more', 'than', 'double', 'the', 'antenna', 'capability', 'of', 'Starlink', ',\\\\\"', 'the', 'product', \"'\", 's', 'website', 'says', '.'], ['More', 'specifically', ',', 'the', 'higher', '-', 'performance', 'user', 'terminal', 'has', '\\\\\"', 'twice', 'the', 'area', 'of', 'our', 'standard', 'phased', 'array', 'with', 'broader', 'scan', 'angle', ',\\\\\"', 'SpaceX', 'CEO', 'Elon', 'Musk', 'wrote', 'on', 'Twitter', '.'], ...]\n"
     ]
    },
    {
     "name": "stderr",
     "output_type": "stream",
     "text": [
      "[nltk_data] Downloading package punkt to\n",
      "[nltk_data]     C:\\Users\\phajs\\AppData\\Roaming\\nltk_data...\n",
      "[nltk_data]   Package punkt is already up-to-date!\n"
     ]
    }
   ],
   "source": [
    "import nltk.data\n",
    "nltk.download('punkt')\n",
    "from nltk.corpus.reader.plaintext import PlaintextCorpusReader\n",
    "\n",
    "new_corpus = PlaintextCorpusReader('.', 'ars_technica.txt')\n",
    "\n",
    "print(new_corpus.sents())"
   ]
  },
  {
   "cell_type": "markdown",
   "id": "ba4e464b",
   "metadata": {},
   "source": [
    "**(b) Clean the data using what you have just learned. There are likely several new problems to handle.\n",
    "Select one and explain how you would solve it – no need for code**"
   ]
  },
  {
   "cell_type": "code",
   "execution_count": 236,
   "id": "e7396a2d",
   "metadata": {},
   "outputs": [
    {
     "name": "stdout",
     "output_type": "stream",
     "text": [
      "['{\"', 'header', '\":', '\"', 'New', '\\\\', 'u201cStarlink', 'Premium', '\\\\', 'u201d', 'costs', '$', '500', '/', 'month', ',', 'ships', 'sooner', 'standard', 'Starlink', '\",', '\"', 'ingress', '\":', '\"', 'Starlink', 'Premium', 'ships', 'Q2', ',', '\\\\\"', 'double', 'antenna', 'capability', '.\\\\\"\",', '\"', 'published', '\":', '\"', '2', '/', '2', '/', '2022', '\",', '\"', 'topic', '\":', '\"', 'Biz', '&', '\",', '\"', 'body', '\":', '\"', 'Starlink', 'started', 'taking', 'orders', 'premium', 'service', 'bigger', 'antenna', 'delivers', 'download', 'speeds', '500Mbps', ',', 'costs', 'five', 'times', 'much', 'standard', 'service', ':', '$', '2', ',', '500', 'hardware', '$', '500', 'per', 'month', 'Internet', 'access', '.\\\\\"', 'Starlink', 'Premium', 'double', 'antenna', 'capability', 'Starlink', ',\\\\\"', 'product', \"'\", 'website', 'says', '.']\n"
     ]
    }
   ],
   "source": [
    "stop_words = set(stopwords.words('english'))\n",
    "\n",
    "filter_corpus = [word for word in new_corpus.words() if not word.lower() in stop_words]\n",
    "\n",
    "print(filter_corpus[:100])"
   ]
  },
  {
   "cell_type": "markdown",
   "id": "781b999f",
   "metadata": {},
   "source": [
    "Additionally, the corpus has many backspaces and unicode characters that I would filter out using regex."
   ]
  },
  {
   "cell_type": "markdown",
   "id": "262e591d",
   "metadata": {},
   "source": [
    "**(c) Separate the text body (sentences) into tokens (words) by splitting on spaces. Find and implement\n",
    "one improvement on this tokenization process**"
   ]
  },
  {
   "cell_type": "code",
   "execution_count": 269,
   "id": "188802e1",
   "metadata": {},
   "outputs": [],
   "source": [
    "filter_corpus = [word for word in filter_corpus if word.isalnum()]"
   ]
  },
  {
   "cell_type": "markdown",
   "id": "ca2a5fa5",
   "metadata": {},
   "source": [
    "The filtered corpus in the variable filter_corpus is already split into tokens. The corpus is improved by filtering all characters that are not alpha numeric."
   ]
  },
  {
   "cell_type": "markdown",
   "id": "8f077b04",
   "metadata": {},
   "source": [
    "**(d) Print the 10 most common words**"
   ]
  },
  {
   "cell_type": "code",
   "execution_count": 271,
   "id": "379e022f",
   "metadata": {},
   "outputs": [
    {
     "name": "stdout",
     "output_type": "stream",
     "text": [
      "Ten most common words:\n",
      "1 - com 37 occurrences\n",
      "2 - https 36 occurrences\n",
      "3 - arstechnica 36 occurrences\n",
      "4 - new 29 occurrences\n",
      "5 - google 28 occurrences\n",
      "6 - science 24 occurrences\n",
      "7 - like 16 occurrences\n",
      "8 - users 15 occurrences\n",
      "9 - tech 15 occurrences\n",
      "10 - pi 14 occurrences\n"
     ]
    }
   ],
   "source": [
    "key_words = [\"header\", \"ingress\", \"body\", \"sentences\", \"published\", \"date\", \"topic\", \"url\"]\n",
    "fdist = nltk.FreqDist(word.lower() for word in filter_corpus if word not in key_words and word.isalpha())\n",
    "ten_most_common = fdist.most_common(10)\n",
    "i=1\n",
    "print(\"Ten most common words:\")\n",
    "for word, count in ten_most_common:\n",
    "    print(i,'-', word, count, 'occurrences')\n",
    "    i+=1"
   ]
  },
  {
   "cell_type": "markdown",
   "id": "3c381df9",
   "metadata": {},
   "source": [
    "**(e) Create bigrams from the texts that do not contain stopwords. Print the 10 most common bigrams**"
   ]
  },
  {
   "cell_type": "code",
   "execution_count": 279,
   "id": "538c284d",
   "metadata": {},
   "outputs": [
    {
     "name": "stdout",
     "output_type": "stream",
     "text": [
      "((('url', 'https'), ('https', 'arstechnica')), 36)\n",
      "((('https', 'arstechnica'), ('arstechnica', 'com')), 36)\n",
      "((('arstechnica', 'com'), ('com', 'gadgets')), 13)\n",
      "((('com', 'gadgets'), ('gadgets', '2022')), 13)\n",
      "((('2022', 'topic'), ('topic', 'Biz')), 12)\n",
      "((('topic', 'Biz'), ('Biz', 'body')), 12)\n",
      "((('2022', 'topic'), ('topic', 'Tech')), 12)\n",
      "((('topic', 'Tech'), ('Tech', 'body')), 12)\n",
      "((('2022', 'topic'), ('topic', 'Science')), 12)\n",
      "((('topic', 'Science'), ('Science', 'body')), 12)\n"
     ]
    }
   ],
   "source": [
    "from collections import Counter\n",
    "bigram = nltk.bigrams(filter_corpus)\n",
    "\n",
    "#Function taken from https://www.programcreek.com/python/example/16275/nltk.FreqDist\n",
    "def bigram_counts(word_list):\n",
    "\tbgs = nltk.bigrams(word_list)\n",
    "\tfdist = nltk.FreqDist(bgs)\n",
    "\td = Counter()\n",
    "\tfor k, v in fdist.items():\n",
    "\t\td[k] = v\n",
    "\treturn d \n",
    "\n",
    "for element in bigram_counts(bigram).most_common(10):\n",
    "    print(element)\n"
   ]
  },
  {
   "cell_type": "markdown",
   "id": "af9814d4",
   "metadata": {},
   "source": [
    "**(f) Find the headline that contains the highest number of most frequently used words (from the common\n",
    "words in task d, but not limited to top 10). If you want to, you are free to explore more advanced\n",
    "techniques if desired, e.g., generating a new headline based on the frequency of words, etc.**"
   ]
  },
  {
   "cell_type": "markdown",
   "id": "0622c81f",
   "metadata": {},
   "source": [
    "I struggled with finding a method that finds the json keywords in the corpus, so I could not finish this last task."
   ]
  }
 ],
 "metadata": {
  "kernelspec": {
   "display_name": "Python 3 (ipykernel)",
   "language": "python",
   "name": "python3"
  },
  "language_info": {
   "codemirror_mode": {
    "name": "ipython",
    "version": 3
   },
   "file_extension": ".py",
   "mimetype": "text/x-python",
   "name": "python",
   "nbconvert_exporter": "python",
   "pygments_lexer": "ipython3",
   "version": "3.9.7"
  }
 },
 "nbformat": 4,
 "nbformat_minor": 5
}
